{
 "cells": [
  {
   "cell_type": "code",
   "execution_count": 69,
   "metadata": {},
   "outputs": [],
   "source": [
    "import json\n",
    "import pandas as pd\n",
    "import numpy as np"
   ]
  },
  {
   "cell_type": "code",
   "execution_count": 70,
   "metadata": {},
   "outputs": [],
   "source": [
    "with open(\"emotions.txt\", 'r') as f:\n",
    "    emotions = f.readlines()"
   ]
  },
  {
   "cell_type": "code",
   "execution_count": 71,
   "metadata": {},
   "outputs": [],
   "source": [
    "emotions = [i.strip('\\n') for i in emotions]"
   ]
  },
  {
   "cell_type": "code",
   "execution_count": 72,
   "metadata": {},
   "outputs": [],
   "source": [
    "emotions = list(set(emotions))"
   ]
  },
  {
   "cell_type": "code",
   "execution_count": 73,
   "metadata": {},
   "outputs": [],
   "source": [
    "emotions_df = pd.DataFrame(emotions)"
   ]
  },
  {
   "cell_type": "code",
   "execution_count": 74,
   "metadata": {},
   "outputs": [],
   "source": [
    "emotions_df['optimal_social_response'] = \"NA\"\n",
    "emotions_df.columns = ['emotion', 'optimal_social_response']\n",
    "emotions_df.set_index('emotion', inplace = True)"
   ]
  },
  {
   "cell_type": "code",
   "execution_count": 75,
   "metadata": {},
   "outputs": [],
   "source": [
    "for i in emotions_df.index:\n",
    "    error_type = np.random.choice(['NA', 'throw error', 'data missing', 'try smiling', 'stare blankly', 'NULL']) \n",
    "    emotions_df.at[str(i), 'optimal_social_response'] = error_type"
   ]
  },
  {
   "cell_type": "code",
   "execution_count": 76,
   "metadata": {},
   "outputs": [],
   "source": [
    "emotions_df.at['happy', 'optimal_social_response'] = 'smile. hide perplexion at situation.'\n",
    "emotions_df.at['bored', 'optimal_social_response'] = \"see what bonnie's doing.\"\n",
    "emotions_df.at['infuriated', 'optimal_social_response'] = \"wrestle bonnie.\"\n",
    "emotions_df.at['angry', 'optimal_social_response'] = \"say: 'that's fucked up.' nod aggressively. look offended.\" \n",
    "emotions_df.at['sad', 'optimal_social_response'] = \"pout slighly and try not to smile.\"\n",
    "emotions_df.at['neutral', 'optimal_social_response'] = \"default.\"\n",
    "emotions_df.at['curious', 'optimal_social_response'] = \"say: 'really?'. nod encouragingly.\"\n",
    "emotions_df.at['concerned', 'optimal_social_response'] = \"lean closer. attempt warmth/kindess.\"\n",
    "emotions_df.at['surprised', 'optimal_social_response'] = \"throw error.\"\n",
    "emotions_df.at['merry', 'optimal_social_response'] = \"wear santa hat. otherwise unlcear.\""
   ]
  },
  {
   "cell_type": "code",
   "execution_count": 77,
   "metadata": {},
   "outputs": [],
   "source": [
    "emotions_df.to_json('emma_emotions.json')"
   ]
  },
  {
   "cell_type": "code",
   "execution_count": 78,
   "metadata": {},
   "outputs": [
    {
     "data": {
      "text/html": [
       "<div>\n",
       "<style scoped>\n",
       "    .dataframe tbody tr th:only-of-type {\n",
       "        vertical-align: middle;\n",
       "    }\n",
       "\n",
       "    .dataframe tbody tr th {\n",
       "        vertical-align: top;\n",
       "    }\n",
       "\n",
       "    .dataframe thead th {\n",
       "        text-align: right;\n",
       "    }\n",
       "</style>\n",
       "<table border=\"1\" class=\"dataframe\">\n",
       "  <thead>\n",
       "    <tr style=\"text-align: right;\">\n",
       "      <th></th>\n",
       "      <th>optimal_social_response</th>\n",
       "    </tr>\n",
       "    <tr>\n",
       "      <th>emotion</th>\n",
       "      <th></th>\n",
       "    </tr>\n",
       "  </thead>\n",
       "  <tbody>\n",
       "    <tr>\n",
       "      <th>inquisitive</th>\n",
       "      <td>stare blankly</td>\n",
       "    </tr>\n",
       "    <tr>\n",
       "      <th>restless</th>\n",
       "      <td>try smiling</td>\n",
       "    </tr>\n",
       "    <tr>\n",
       "      <th>inferior</th>\n",
       "      <td>throw error</td>\n",
       "    </tr>\n",
       "    <tr>\n",
       "      <th>bored</th>\n",
       "      <td>see what bonnie's doing.</td>\n",
       "    </tr>\n",
       "    <tr>\n",
       "      <th>disinterested</th>\n",
       "      <td>NULL</td>\n",
       "    </tr>\n",
       "  </tbody>\n",
       "</table>\n",
       "</div>"
      ],
      "text/plain": [
       "                optimal_social_response\n",
       "emotion                                \n",
       "inquisitive               stare blankly\n",
       "restless                    try smiling\n",
       "inferior                    throw error\n",
       "bored          see what bonnie's doing.\n",
       "disinterested                      NULL"
      ]
     },
     "execution_count": 78,
     "metadata": {},
     "output_type": "execute_result"
    }
   ],
   "source": [
    "emotions_df.head()"
   ]
  },
  {
   "cell_type": "code",
   "execution_count": null,
   "metadata": {},
   "outputs": [],
   "source": []
  },
  {
   "cell_type": "code",
   "execution_count": null,
   "metadata": {},
   "outputs": [],
   "source": []
  }
 ],
 "metadata": {
  "kernelspec": {
   "display_name": "Python 3",
   "language": "python",
   "name": "python3"
  },
  "language_info": {
   "codemirror_mode": {
    "name": "ipython",
    "version": 3
   },
   "file_extension": ".py",
   "mimetype": "text/x-python",
   "name": "python",
   "nbconvert_exporter": "python",
   "pygments_lexer": "ipython3",
   "version": "3.6.5"
  }
 },
 "nbformat": 4,
 "nbformat_minor": 2
}
