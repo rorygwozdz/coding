{
 "cells": [
  {
   "cell_type": "code",
   "execution_count": 8,
   "metadata": {},
   "outputs": [],
   "source": [
    "import json\n",
    "import numpy as np\n",
    "import pandas as pd"
   ]
  },
  {
   "cell_type": "code",
   "execution_count": 9,
   "metadata": {},
   "outputs": [],
   "source": [
    "#loading meditations text\n",
    "with open('meditations.txt', 'r') as f:\n",
    "    big_m = f.readlines()"
   ]
  },
  {
   "cell_type": "code",
   "execution_count": 10,
   "metadata": {},
   "outputs": [],
   "source": [
    "#chomp and blanks gone\n",
    "big_m = [i.strip('\\n') for i in big_m]\n",
    "big_m = [i for i in big_m if i != '']"
   ]
  },
  {
   "cell_type": "code",
   "execution_count": 11,
   "metadata": {},
   "outputs": [],
   "source": [
    "#makes meditations dictionary \n",
    "def make_passages(text, book = False): \n",
    "    line, book_num, books, current_book, current_passage = 0, 0, {}, [], []\n",
    "    digits = str(np.arange(10))\n",
    "    while line != len(text):\n",
    "        if 'Book' in text[(line)]:\n",
    "            current_book += [' '.join(current_passage)]\n",
    "            books[f'Book {book_num}'] = current_book\n",
    "            current_book = []\n",
    "            current_passage = []\n",
    "            book_num += 1\n",
    "        if text[line][0] in digits:\n",
    "            current_book += [' '.join(current_passage)]\n",
    "            current_passage = [text[line]]\n",
    "        else:\n",
    "            current_passage += [text[line]]\n",
    "        line += 1\n",
    "    return books"
   ]
  },
  {
   "cell_type": "code",
   "execution_count": 12,
   "metadata": {},
   "outputs": [
    {
     "data": {
      "text/plain": [
       "'15. Many lumps of incense on the same altar. One crumbles now, one later, but it makes no difference.'"
      ]
     },
     "execution_count": 12,
     "metadata": {},
     "output_type": "execute_result"
    }
   ],
   "source": [
    "#makes dictionary meditations \n",
    "meditations = make_passages(big_m) \n",
    "meditations['Book 4'][15]"
   ]
  },
  {
   "cell_type": "code",
   "execution_count": 13,
   "metadata": {},
   "outputs": [],
   "source": [
    "#loading in probability questions\n",
    "with open('probability_questions.txt') as kflay:\n",
    "    p_qs_unclean = kflay.readlines()"
   ]
  },
  {
   "cell_type": "code",
   "execution_count": 14,
   "metadata": {},
   "outputs": [
    {
     "ename": "NameError",
     "evalue": "name 'p_qs_no_soldot' is not defined",
     "output_type": "error",
     "traceback": [
      "\u001b[0;31m---------------------------------------------------------------------------\u001b[0m",
      "\u001b[0;31mNameError\u001b[0m                                 Traceback (most recent call last)",
      "\u001b[0;32m<ipython-input-14-f44f6f8e63c3>\u001b[0m in \u001b[0;36m<module>\u001b[0;34m()\u001b[0m\n\u001b[1;32m      1\u001b[0m \u001b[0;31m#chomp, new space, and blanks gone for prob questions\u001b[0m\u001b[0;34m\u001b[0m\u001b[0;34m\u001b[0m\u001b[0m\n\u001b[1;32m      2\u001b[0m \u001b[0mp_qs_no_n_solution\u001b[0m \u001b[0;34m=\u001b[0m \u001b[0;34m[\u001b[0m\u001b[0mi\u001b[0m\u001b[0;34m.\u001b[0m\u001b[0mrstrip\u001b[0m\u001b[0;34m(\u001b[0m\u001b[0;34m)\u001b[0m \u001b[0;32mfor\u001b[0m \u001b[0mi\u001b[0m \u001b[0;32min\u001b[0m \u001b[0mp_qs_unclean\u001b[0m\u001b[0;34m]\u001b[0m\u001b[0;34m\u001b[0m\u001b[0m\n\u001b[0;32m----> 3\u001b[0;31m \u001b[0mp_qs_no_xoc\u001b[0m \u001b[0;34m=\u001b[0m \u001b[0;34m[\u001b[0m\u001b[0mi\u001b[0m\u001b[0;34m.\u001b[0m\u001b[0mstrip\u001b[0m\u001b[0;34m(\u001b[0m\u001b[0;34m'\\x0c'\u001b[0m\u001b[0;34m)\u001b[0m \u001b[0;32mfor\u001b[0m \u001b[0mi\u001b[0m \u001b[0;32min\u001b[0m \u001b[0mp_qs_no_soldot\u001b[0m\u001b[0;34m]\u001b[0m\u001b[0;34m\u001b[0m\u001b[0m\n\u001b[0m\u001b[1;32m      4\u001b[0m \u001b[0mp_qs_clean\u001b[0m \u001b[0;34m=\u001b[0m \u001b[0;34m[\u001b[0m\u001b[0mi\u001b[0m \u001b[0;32mfor\u001b[0m \u001b[0mi\u001b[0m \u001b[0;32min\u001b[0m \u001b[0mp_qs_no_xoc\u001b[0m \u001b[0;32mif\u001b[0m \u001b[0mi\u001b[0m \u001b[0;34m!=\u001b[0m \u001b[0;34m''\u001b[0m\u001b[0;34m]\u001b[0m\u001b[0;34m\u001b[0m\u001b[0m\n",
      "\u001b[0;31mNameError\u001b[0m: name 'p_qs_no_soldot' is not defined"
     ]
    }
   ],
   "source": [
    "#chomp, new space, and blanks gone for prob questions\n",
    "p_qs_no_n_solution = [i.rstrip() for i in p_qs_unclean]\n",
    "p_qs_no_xoc = [i.strip('\\x0c') for i in p_qs_no_soldot]\n",
    "p_qs_clean = [i for i in p_qs_no_xoc if i != '']"
   ]
  },
  {
   "cell_type": "code",
   "execution_count": 15,
   "metadata": {},
   "outputs": [
    {
     "ename": "NameError",
     "evalue": "name 'p_qs_clean' is not defined",
     "output_type": "error",
     "traceback": [
      "\u001b[0;31m---------------------------------------------------------------------------\u001b[0m",
      "\u001b[0;31mNameError\u001b[0m                                 Traceback (most recent call last)",
      "\u001b[0;32m<ipython-input-15-cac59551d3c0>\u001b[0m in \u001b[0;36m<module>\u001b[0;34m()\u001b[0m\n\u001b[0;32m----> 1\u001b[0;31m \u001b[0mp_qs_clean\u001b[0m\u001b[0;34m\u001b[0m\u001b[0m\n\u001b[0m",
      "\u001b[0;31mNameError\u001b[0m: name 'p_qs_clean' is not defined"
     ]
    }
   ],
   "source": [
    "p_qs_clean"
   ]
  },
  {
   "cell_type": "code",
   "execution_count": 16,
   "metadata": {},
   "outputs": [],
   "source": [
    "#makes a bunch of questions\n",
    "def make_questions_dict(clean_text):\n",
    "    problems, prob_num, current_problem = {}, 0, []\n",
    "    for i in clean_text:\n",
    "        if i[0] in digits and '.' in i[1:3]:\n",
    "            problem_in_text = ' '.join(current_problem) #gets rid of incorrect numbering\n",
    "            #print(problem_in_text, ''.join(current_problem), 'hello?')\n",
    "            if len(problem_in_text) <2:\n",
    "                problem_in_text = problem_in_text\n",
    "            elif problem_in_text[1] == '.':\n",
    "                problem_in_text = problem_in_text[3:]\n",
    "            elif problem_in_text[2] == '.':\n",
    "                problem_in_text = problem_in_text[4:]\n",
    "            elif problem_in_text[3] == '.':\n",
    "                problem_in_text = problem_in_text[5:]\n",
    "            problems[prob_num] = problem_in_text\n",
    "            prob_num += 1\n",
    "            current_problem = [i]\n",
    "        else:\n",
    "            current_problem += [i]\n",
    "    return problems"
   ]
  },
  {
   "cell_type": "code",
   "execution_count": 17,
   "metadata": {},
   "outputs": [
    {
     "ename": "NameError",
     "evalue": "name 'p_qs_clean' is not defined",
     "output_type": "error",
     "traceback": [
      "\u001b[0;31m---------------------------------------------------------------------------\u001b[0m",
      "\u001b[0;31mNameError\u001b[0m                                 Traceback (most recent call last)",
      "\u001b[0;32m<ipython-input-17-f8b158e50a0b>\u001b[0m in \u001b[0;36m<module>\u001b[0;34m()\u001b[0m\n\u001b[0;32m----> 1\u001b[0;31m \u001b[0mprob_questions\u001b[0m \u001b[0;34m=\u001b[0m \u001b[0mmake_questions_dict\u001b[0m\u001b[0;34m(\u001b[0m\u001b[0mp_qs_clean\u001b[0m\u001b[0;34m)\u001b[0m\u001b[0;34m\u001b[0m\u001b[0m\n\u001b[0m",
      "\u001b[0;31mNameError\u001b[0m: name 'p_qs_clean' is not defined"
     ]
    }
   ],
   "source": [
    "prob_questions = make_questions_dict(p_qs_clean)"
   ]
  },
  {
   "cell_type": "code",
   "execution_count": 18,
   "metadata": {},
   "outputs": [],
   "source": [
    "with open('meditations.json', 'w') as filer: \n",
    "    json.dump(meditations, filer)"
   ]
  },
  {
   "cell_type": "code",
   "execution_count": 61,
   "metadata": {},
   "outputs": [],
   "source": [
    "with open('probability_questions.json', 'w') as filer: \n",
    "    json.dump(prob_questions, filer)"
   ]
  },
  {
   "cell_type": "code",
   "execution_count": 20,
   "metadata": {},
   "outputs": [],
   "source": [
    "with open('meditations.json', 'r') as dater:\n",
    "    med = json.load(dater)"
   ]
  },
  {
   "cell_type": "code",
   "execution_count": 25,
   "metadata": {},
   "outputs": [
    {
     "ename": "AttributeError",
     "evalue": "'list' object has no attribute 'sample'",
     "output_type": "error",
     "traceback": [
      "\u001b[0;31m---------------------------------------------------------------------------\u001b[0m",
      "\u001b[0;31mAttributeError\u001b[0m                            Traceback (most recent call last)",
      "\u001b[0;32m<ipython-input-25-22bb8fbcf29e>\u001b[0m in \u001b[0;36m<module>\u001b[0;34m()\u001b[0m\n\u001b[0;32m----> 1\u001b[0;31m \u001b[0mlist\u001b[0m\u001b[0;34m(\u001b[0m\u001b[0mmed\u001b[0m\u001b[0;34m.\u001b[0m\u001b[0mkeys\u001b[0m\u001b[0;34m(\u001b[0m\u001b[0;34m)\u001b[0m\u001b[0;34m)\u001b[0m\u001b[0;34m.\u001b[0m\u001b[0msample\u001b[0m\u001b[0;34m(\u001b[0m\u001b[0;36m1\u001b[0m\u001b[0;34m)\u001b[0m\u001b[0;34m\u001b[0m\u001b[0m\n\u001b[0m",
      "\u001b[0;31mAttributeError\u001b[0m: 'list' object has no attribute 'sample'"
     ]
    }
   ],
   "source": [
    "list(med.keys())"
   ]
  },
  {
   "cell_type": "code",
   "execution_count": null,
   "metadata": {},
   "outputs": [],
   "source": []
  }
 ],
 "metadata": {
  "kernelspec": {
   "display_name": "Python 3",
   "language": "python",
   "name": "python3"
  },
  "language_info": {
   "codemirror_mode": {
    "name": "ipython",
    "version": 3
   },
   "file_extension": ".py",
   "mimetype": "text/x-python",
   "name": "python",
   "nbconvert_exporter": "python",
   "pygments_lexer": "ipython3",
   "version": "3.6.5"
  }
 },
 "nbformat": 4,
 "nbformat_minor": 2
}
