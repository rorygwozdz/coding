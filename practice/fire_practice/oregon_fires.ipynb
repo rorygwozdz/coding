{
 "cells": [
  {
   "cell_type": "code",
   "execution_count": 62,
   "metadata": {},
   "outputs": [],
   "source": [
    "# imports, gpl is for mapping (lat, lon) pairs\n",
    "import numpy as np\n",
    "import pandas as pd\n",
    "import geoplotlib as gpl\n",
    "#sets it to work inline\n",
    "gpl.inline\n",
    "#ignores a warning related to latitude/longitude reassignment\n",
    "pd.set_option('mode.chained_assignment', None)"
   ]
  },
  {
   "cell_type": "code",
   "execution_count": 89,
   "metadata": {},
   "outputs": [],
   "source": [
    "# loading csv\n",
    "fires = pd.read_csv('data/fire.csv')"
   ]
  },
  {
   "cell_type": "code",
   "execution_count": 90,
   "metadata": {},
   "outputs": [],
   "source": [
    "# smaller dataframe\n",
    "year_size_desc = fires[['FireYear', 'GeneralDesc', 'Size_acres', \"Location\"]]"
   ]
  },
  {
   "cell_type": "code",
   "execution_count": 95,
   "metadata": {},
   "outputs": [],
   "source": [
    "# renaming and sorting\n",
    "locs = year_size_desc.rename(columns = {\"Location\": \"locs\"})\n",
    "locs = locs.sort_values('FireYear')"
   ]
  },
  {
   "cell_type": "code",
   "execution_count": null,
   "metadata": {},
   "outputs": [],
   "source": [
    "# getting the latitude longitude in a geoplotlib readable format\n",
    "nonnull_locs = locs[~locs.locs.isnull()]\n",
    "lat_lon = nonnull_locs['locs'].str.split(',')\n",
    "lat, lon = [cord[0] for cord in lat_lon], [cord[1] for cord in lat_lon] \n",
    "nonnull_locs['lat'] = np.array(lat)\n",
    "nonnull_locs['lon'] = np.array(lon)\n",
    "nonnull_locs['lat'] = nonnull_locs.lat.str.slice(1,).astype(float)\n",
    "nonnull_locs['lon'] = nonnull_locs.lon.str.slice(0,-1).astype(float)\n",
    "clean_fire = nonnull_locs"
   ]
  },
  {
   "cell_type": "code",
   "execution_count": null,
   "metadata": {},
   "outputs": [],
   "source": [
    "gpl.dot(clean_fire[clean_fire['FireYear'] == 2015])"
   ]
  },
  {
   "cell_type": "code",
   "execution_count": 104,
   "metadata": {},
   "outputs": [],
   "source": [
    "gpl.dot(clean_fire[clean_fire['FireYear'] == 2014], color = 'blue')"
   ]
  },
  {
   "cell_type": "code",
   "execution_count": null,
   "metadata": {},
   "outputs": [],
   "source": [
    "gpl.show()"
   ]
  },
  {
   "cell_type": "code",
   "execution_count": 100,
   "metadata": {},
   "outputs": [
    {
     "data": {
      "text/plain": [
       "<module 'geoplotlib.colors' from '/anaconda3/lib/python3.6/site-packages/geoplotlib/colors.py'>"
      ]
     },
     "execution_count": 100,
     "metadata": {},
     "output_type": "execute_result"
    }
   ],
   "source": [
    "gpl.colors"
   ]
  },
  {
   "cell_type": "code",
   "execution_count": null,
   "metadata": {},
   "outputs": [],
   "source": []
  }
 ],
 "metadata": {
  "kernelspec": {
   "display_name": "Python 3",
   "language": "python",
   "name": "python3"
  },
  "language_info": {
   "codemirror_mode": {
    "name": "ipython",
    "version": 3
   },
   "file_extension": ".py",
   "mimetype": "text/x-python",
   "name": "python",
   "nbconvert_exporter": "python",
   "pygments_lexer": "ipython3",
   "version": "3.6.5"
  }
 },
 "nbformat": 4,
 "nbformat_minor": 4
}
