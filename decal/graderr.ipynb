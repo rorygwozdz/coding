{
 "cells": [
  {
   "cell_type": "code",
   "execution_count": 34,
   "metadata": {},
   "outputs": [],
   "source": [
    "import numpy as np\n",
    "import pandas as pd"
   ]
  },
  {
   "cell_type": "code",
   "execution_count": 110,
   "metadata": {},
   "outputs": [],
   "source": [
    "#grades a student dictionary\n",
    "def grader(dict_of_scores):\n",
    "    final_grade = dict_of_scores['participation'] * .4 +\\\n",
    "    dict_of_scores['homework']*.2 + \\\n",
    "    dict_of_scores['midterm']*.15 + \\\n",
    "    dict_of_scores['final']*.25\n",
    "    dict_of_scores['grade_number'] = round(final_grade, 2)\n",
    "    if final_grade >=.60:\n",
    "        dict_of_scores['grade'] = 'pass!'\n",
    "        return 'pass!'\n",
    "    dict_of_scores['grade'] = 'fail!'\n",
    "    return 'fail!'\n"
   ]
  },
  {
   "cell_type": "code",
   "execution_count": 111,
   "metadata": {},
   "outputs": [],
   "source": [
    "#makes student dictionary -- inputs = [name, participation, hw, mt, final grade]\n",
    "def make_dict(grade_inputs):\n",
    "    dict_of_scores = {}\n",
    "    dict_of_scores['name'] = grade_inputs[0]\n",
    "    dict_of_scores['participation'] = grade_inputs[1]\n",
    "    dict_of_scores['homework'] = grade_inputs[2]\n",
    "    dict_of_scores['midterm'] = grade_inputs[3]\n",
    "    dict_of_scores['final'] = grade_inputs[4]\n",
    "    return dict_of_scores"
   ]
  },
  {
   "cell_type": "code",
   "execution_count": 112,
   "metadata": {},
   "outputs": [],
   "source": [
    "#read a csv of name, participation, hw, mt, and final grades (that order)\n",
    "all_the_kids_fa2018 = pd.read_csv('all.csv')\n",
    "#to list of lists of name, participation, hw, mt, and final grades\n",
    "grade_inputs_fa2018 = all_the_kids.values.tolist()\n",
    "#dictionary for every student\n",
    "student_dicts_fa2018 = [make_dict(i) for i in list_of_grade_inputs]\n",
    "#grading\n",
    "[grader(i) for i in student_dicts_fa2018]\n",
    "#making a df for exporting\n",
    "students_w_grades_fa2018 = pd.DataFrame(student_dicts_fa2018)\n",
    "#exporting\n",
    "students_w_grades_fa2018.to_csv('students_w_grades.csv')"
   ]
  }
 ],
 "metadata": {
  "kernelspec": {
   "display_name": "Python 3",
   "language": "python",
   "name": "python3"
  },
  "language_info": {
   "codemirror_mode": {
    "name": "ipython",
    "version": 3
   },
   "file_extension": ".py",
   "mimetype": "text/x-python",
   "name": "python",
   "nbconvert_exporter": "python",
   "pygments_lexer": "ipython3",
   "version": "3.6.5"
  }
 },
 "nbformat": 4,
 "nbformat_minor": 2
}
