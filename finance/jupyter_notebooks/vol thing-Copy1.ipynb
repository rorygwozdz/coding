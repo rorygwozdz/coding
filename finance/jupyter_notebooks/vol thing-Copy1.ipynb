{
 "cells": [
  {
   "cell_type": "code",
   "execution_count": 2,
   "metadata": {},
   "outputs": [],
   "source": [
    "import pandas as pd\n",
    "import numpy as np\n",
    "from datetime import datetime\n",
    "pd.core.common.is_list_like = pd.api.types.is_list_like\n",
    "import pandas_datareader as pdr\n",
    "# import matplotlib.pyplot as plt\n",
    "import seaborn as sns\n",
    "import matplotlib.pyplot as plt\n",
    "plt.style.use('dark_background')\n",
    "%matplotlib inline"
   ]
  },
  {
   "cell_type": "code",
   "execution_count": 3,
   "metadata": {},
   "outputs": [
    {
     "name": "stdout",
     "output_type": "stream",
     "text": [
      "5y\n"
     ]
    }
   ],
   "source": [
    "#importing data\n",
    "start = datetime(2013, 10, 31)\n",
    "stop = datetime(2018, 10, 25)\n",
    "mu = pdr.data.DataReader('MU', 'iex', start, stop)"
   ]
  },
  {
   "cell_type": "code",
   "execution_count": 4,
   "metadata": {},
   "outputs": [],
   "source": [
    "#getting volatility\n",
    "# mu['return'] = mu['open']/mu['close'].shift(1)\n",
    "# mu['log return'] = np.log(mu['return'])\n",
    "# mu['vol'] = np.sqrt(252)*mu['log return'].rolling(5).std()"
   ]
  },
  {
   "cell_type": "code",
   "execution_count": 5,
   "metadata": {
    "scrolled": false
   },
   "outputs": [],
   "source": [
    "# mu['vol'][0:].plot(subplots = True)\n",
    "# plt.xlabel('time', color = 'white', size = 16)\n",
    "# plt.ylabel('vol', color = 'white', size = 16)\n"
   ]
  },
  {
   "cell_type": "code",
   "execution_count": 6,
   "metadata": {},
   "outputs": [],
   "source": [
    "def plt_maker(df):\n",
    "    #makes a plot based off of the price data df of some company \n",
    "    df['vol'] = round(df['vol'], 1)\n",
    "    grouped_by_vol = df.groupby('vol')\n",
    "    scattering = grouped_by_vol.mean()\n",
    "    return plt.scatter(scattering.index, scattering['abs return'])\n",
    "# plt.scatter(fb_grouped_by_vol.mean()[0], fb_grouped_by_vol.mean()['abs return'])"
   ]
  },
  {
   "cell_type": "code",
   "execution_count": 7,
   "metadata": {},
   "outputs": [],
   "source": [
    "def make_df(ticker, start = datetime(2013, 10, 31), stop = datetime(2018, 10, 26), vol_dp = 5):\n",
    "    ticker = pdr.data.DataReader(ticker, 'iex', start, stop)\n",
    "    ticker['return'] = ticker.open/ticker.close\n",
    "    ticker['log return'] = np.log(ticker['return'])\n",
    "    ticker['abs return'] = abs(ticker['return'] - 1) \n",
    "    ticker['vol'] = np.sqrt(252)*ticker['log return'].rolling(vol_dp).std()\n",
    "    #drop first vol_sd datapoints (plus one for no return data at number one) to avoid NaN\n",
    "    ticker =ticker[vol_dp + 1:][:]\n",
    "    return ticker"
   ]
  },
  {
   "cell_type": "code",
   "execution_count": 8,
   "metadata": {},
   "outputs": [
    {
     "name": "stdout",
     "output_type": "stream",
     "text": [
      "5y\n",
      "5y\n",
      "5y\n",
      "5y\n",
      "5y\n"
     ]
    }
   ],
   "source": [
    "tickerss = ['FB', 'GOOG', 'AMZN', 'NFLX', 'AAPL']\n",
    "lister = []\n",
    "faang = [make_df(i, vol_dp = 30) for i in tickerss]"
   ]
  },
  {
   "cell_type": "code",
   "execution_count": 9,
   "metadata": {},
   "outputs": [
    {
     "data": {
      "image/png": "[encoded data removed]",
      "text/plain": [
       "<Figure size 432x288 with 1 Axes>"
      ]
     },
     "metadata": {},
     "output_type": "display_data"
    }
   ],
   "source": [
    "for i in faang:\n",
    "    plt_maker(i)\n",
    "    "
   ]
  },
  {
   "cell_type": "code",
   "execution_count": 43,
   "metadata": {},
   "outputs": [
    {
     "name": "stdout",
     "output_type": "stream",
     "text": [
      "5y\n"
     ]
    },
    {
     "data": {
      "text/plain": [
       "date\n",
       "2014-03-18    True\n",
       "2014-03-19    True\n",
       "2014-03-20    True\n",
       "2014-03-21    True\n",
       "2014-03-24    True\n",
       "2014-03-25    True\n",
       "2014-03-26    True\n",
       "2014-03-27    True\n",
       "2014-03-28    True\n",
       "2014-03-31    True\n",
       "2014-04-01    True\n",
       "2014-04-02    True\n",
       "2014-04-03    True\n",
       "2014-04-04    True\n",
       "2014-04-07    True\n",
       "2014-04-08    True\n",
       "2014-04-09    True\n",
       "2014-04-10    True\n",
       "2014-04-11    True\n",
       "2014-04-14    True\n",
       "2014-04-15    True\n",
       "2014-04-16    True\n",
       "2014-04-17    True\n",
       "2014-04-21    True\n",
       "2014-04-22    True\n",
       "2014-04-23    True\n",
       "2014-04-24    True\n",
       "2014-04-25    True\n",
       "2014-04-28    True\n",
       "2014-04-29    True\n",
       "              ... \n",
       "2018-09-17    True\n",
       "2018-09-18    True\n",
       "2018-09-19    True\n",
       "2018-09-20    True\n",
       "2018-09-21    True\n",
       "2018-09-24    True\n",
       "2018-09-25    True\n",
       "2018-09-26    True\n",
       "2018-09-27    True\n",
       "2018-09-28    True\n",
       "2018-10-01    True\n",
       "2018-10-02    True\n",
       "2018-10-03    True\n",
       "2018-10-04    True\n",
       "2018-10-05    True\n",
       "2018-10-08    True\n",
       "2018-10-09    True\n",
       "2018-10-10    True\n",
       "2018-10-11    True\n",
       "2018-10-12    True\n",
       "2018-10-15    True\n",
       "2018-10-16    True\n",
       "2018-10-17    True\n",
       "2018-10-18    True\n",
       "2018-10-19    True\n",
       "2018-10-22    True\n",
       "2018-10-23    True\n",
       "2018-10-24    True\n",
       "2018-10-25    True\n",
       "2018-10-26    True\n",
       "Name: high, Length: 1164, dtype: bool"
      ]
     },
     "execution_count": 43,
     "metadata": {},
     "output_type": "execute_result"
    }
   ],
   "source": [
    "newm = make_df('NEWM', vol_dp = 20)\n",
    "newm['high'] > 5"
   ]
  },
  {
   "cell_type": "code",
   "execution_count": 50,
   "metadata": {},
   "outputs": [
    {
     "data": {
      "text/html": [
       "<div>\n",
       "<style scoped>\n",
       "    .dataframe tbody tr th:only-of-type {\n",
       "        vertical-align: middle;\n",
       "    }\n",
       "\n",
       "    .dataframe tbody tr th {\n",
       "        vertical-align: top;\n",
       "    }\n",
       "\n",
       "    .dataframe thead th {\n",
       "        text-align: right;\n",
       "    }\n",
       "</style>\n",
       "<table border=\"1\" class=\"dataframe\">\n",
       "  <thead>\n",
       "    <tr style=\"text-align: right;\">\n",
       "      <th></th>\n",
       "      <th>open</th>\n",
       "      <th>high</th>\n",
       "      <th>low</th>\n",
       "      <th>close</th>\n",
       "      <th>volume</th>\n",
       "      <th>return</th>\n",
       "      <th>log return</th>\n",
       "      <th>abs return</th>\n",
       "      <th>vol</th>\n",
       "    </tr>\n",
       "    <tr>\n",
       "      <th>date</th>\n",
       "      <th></th>\n",
       "      <th></th>\n",
       "      <th></th>\n",
       "      <th></th>\n",
       "      <th></th>\n",
       "      <th></th>\n",
       "      <th></th>\n",
       "      <th></th>\n",
       "      <th></th>\n",
       "    </tr>\n",
       "  </thead>\n",
       "  <tbody>\n",
       "    <tr>\n",
       "      <th>2015-02-26</th>\n",
       "      <td>17.4392</td>\n",
       "      <td>18.7644</td>\n",
       "      <td>16.9295</td>\n",
       "      <td>18.2547</td>\n",
       "      <td>1029671</td>\n",
       "      <td>0.955327</td>\n",
       "      <td>-0.045702</td>\n",
       "      <td>0.044673</td>\n",
       "      <td>0.341661</td>\n",
       "    </tr>\n",
       "    <tr>\n",
       "      <th>2015-03-20</th>\n",
       "      <td>18.5134</td>\n",
       "      <td>18.7494</td>\n",
       "      <td>18.4765</td>\n",
       "      <td>18.7199</td>\n",
       "      <td>626758</td>\n",
       "      <td>0.988969</td>\n",
       "      <td>-0.011092</td>\n",
       "      <td>0.011031</td>\n",
       "      <td>0.262235</td>\n",
       "    </tr>\n",
       "    <tr>\n",
       "      <th>2015-03-23</th>\n",
       "      <td>18.7199</td>\n",
       "      <td>18.7199</td>\n",
       "      <td>18.1743</td>\n",
       "      <td>18.2480</td>\n",
       "      <td>176302</td>\n",
       "      <td>1.025860</td>\n",
       "      <td>0.025532</td>\n",
       "      <td>0.025860</td>\n",
       "      <td>0.279804</td>\n",
       "    </tr>\n",
       "  </tbody>\n",
       "</table>\n",
       "</div>"
      ],
      "text/plain": [
       "               open     high      low    close   volume    return  log return  \\\n",
       "date                                                                            \n",
       "2015-02-26  17.4392  18.7644  16.9295  18.2547  1029671  0.955327   -0.045702   \n",
       "2015-03-20  18.5134  18.7494  18.4765  18.7199   626758  0.988969   -0.011092   \n",
       "2015-03-23  18.7199  18.7199  18.1743  18.2480   176302  1.025860    0.025532   \n",
       "\n",
       "            abs return       vol  \n",
       "date                              \n",
       "2015-02-26    0.044673  0.341661  \n",
       "2015-03-20    0.011031  0.262235  \n",
       "2015-03-23    0.025860  0.279804  "
      ]
     },
     "execution_count": 50,
     "metadata": {},
     "output_type": "execute_result"
    }
   ],
   "source": [
    "newm[list(newm['high'] > 18.7)]"
   ]
  },
  {
   "cell_type": "code",
   "execution_count": null,
   "metadata": {},
   "outputs": [],
   "source": [
    "# tickers = ['VXX', 'MMM', 'AOS', 'ABT', 'ABBV', 'ACN', 'ATVI', 'AYI', 'ADBE', 'AAP', 'AMD', 'AES', 'AET', 'AMG', 'AFL', 'A', 'APD', 'AKAM', 'ALK', 'ALB', 'ARE', 'ALXN', 'ALGN', 'ALLE', 'AGN', 'ADS', 'LNT', 'ALL', 'GOOGL', 'GOOG', 'MO', 'AMZN', 'AEE', 'AAL', 'AEP', 'AXP', 'AIG', 'AMT', 'AWK', 'AMP', 'ABC', 'AME', 'AMGN', 'APH', 'APC', 'ADI', 'ANDV', 'ANSS', 'ANTM', 'AON', 'APA', 'AIV', 'AAPL', 'AMAT', 'APTV', 'ADM', 'ARNC', 'AJG', 'AIZ', 'T', 'ADSK', 'ADP', 'AZO', 'AVB', 'AVY', 'BHGE', 'BLL', 'BAC', 'BAX', 'BBT', 'BDX', 'BRK.B', 'BBY', 'BIIB', 'BLK', 'HRB', 'BA', 'BKNG', 'BWA', 'BXP', 'BSX', 'BHF', 'BMY', 'AVGO', 'BF.B', 'CHRW', 'CA', 'COG', 'CDNS', 'CPB', 'COF', 'CAH', 'KMX', 'CCL', 'CAT', 'CBOE', 'CBRE', 'CBS', 'CELG', 'CNC', 'CNP', 'CTL', 'CERN', 'CF', 'SCHW', 'CHTR', 'CVX', 'CMG', 'CB', 'CHD', 'CI', 'XEC', 'CINF', 'CTAS', 'CSCO', 'C', 'CFG', 'CTXS', 'CME', 'CMS', 'KO', 'CTSH', 'CL', 'CMCSA', 'CMA', 'CAG', 'CXO', 'COP', 'ED', 'STZ', 'GLW', 'COST', 'COTY', 'CCI', 'CSRA', 'CSX','CMI','CVS', 'DHI', 'DHR', 'DRI', 'DVA', 'DE', 'DAL', 'XRAY', 'DVN', 'DLR', 'DFS', 'DISCA', 'DISCK', 'DISH', 'DG', 'DLTR', 'D', 'DOV', 'DWDP', 'DPS', 'DTE', 'DUK', 'DRE', 'DXC', 'ETFC', 'EMN', 'ETN', 'EBAY', 'ECL', 'EIX', 'EW', 'EA', 'EMR', 'ETR', 'EVHC', 'EOG', 'EQT', 'EFX', 'EQIX', 'EQR', 'ESS', 'EL', 'RE', 'ES', 'EXC', 'EXPE', 'EXPD', 'ESRX', 'EXR', 'XOM', 'FFIV', 'FB', 'FAST', 'FRT', 'FDX', 'FIS', 'FITB', 'FE', 'FISV', 'FLIR', 'FLS', 'FLR', 'FMC', 'FL', 'F', 'FTV', 'FBHS', 'BEN', 'FCX', 'GPS', 'GRMN', 'IT', 'GD', 'GE', 'GGP', 'GIS', 'GM', 'GPC', 'GILD', 'GPN', 'GS', 'GT', 'GWW', 'HAL', 'HBI', 'HOG', 'HRS', 'HIG', 'HAS', 'HCA', 'HCP', 'HP', 'HSIC', 'HES', 'HPE', 'HLT', 'HOLX', 'HD', 'HON', 'HRL', 'HST', 'HPQ', 'HUM', 'HBAN', 'HII', 'IDXX', 'INFO', 'ITW', 'ILMN', 'INCY', 'IR', 'INTC', 'ICE', 'IBM', 'IP', 'IPG', 'IFF', 'INTU', 'ISRG', 'IVZ', 'IPGP', 'IQV', 'IRM', 'JBHT', 'JEC', 'SJM', 'JNJ', 'JCI', 'JPM', 'JNPR', 'KSU', 'K', 'KEY', 'KMB', 'KIM', 'KMI', 'KLAC', 'KSS', 'KHC', 'KR', 'LB', 'LLL', 'LH', 'LRCX', 'LEG', 'LEN', 'LUK', 'LLY', 'LNC', 'LKQ', 'LMT', 'L', 'LOW', 'LYB', 'MTB', 'MAC', 'M', 'MRO', 'MPC', 'MAR', 'MMC', 'MLM', 'MAS', 'MA', 'MAT', 'MKC', 'MCD', 'MCK', 'MDT', 'MRK', 'MET', 'MTD', 'MGM', 'KORS', 'MCHP', 'MU', 'MSFT', 'MAA', 'MHK', 'TAP', 'MDLZ', 'MON', 'MNST', 'MCO', 'MS', 'MSI', 'MYL', 'NDAQ', 'NOV', 'NAVI', 'NKTR', 'NTAP', 'NFLX', 'NWL', 'NFX', 'NEM', 'NWSA', 'NWS', 'NEE', 'NLSN', 'NKE', 'NI', 'NBL', 'JWN', 'NSC', 'NTRS', 'NOC', 'NCLH', 'NRG', 'NUE', 'NVDA', 'ORLY', 'OXY', 'OMC', 'OKE', 'ORCL', 'PCAR', 'PKG', 'PH', 'PAYX', 'PYPL', 'PNR', 'PBCT', 'PEP', 'PKI', 'PRGO', 'PFE', 'PCG', 'PM', 'PSX', 'PNW', 'PXD', 'PNC', 'RL', 'PPG', 'PPL', 'PX', 'PFG', 'PG', 'PGR', 'PLD', 'PRU', 'PEG', 'PSA', 'PHM', 'PVH', 'QRVO', 'QCOM', 'PWR', 'DGX', 'RRC', 'RJF', 'RTN', 'O', 'RHT', 'REG', 'REGN', 'RF', 'RSG', 'RMD', 'RHI', 'ROK', 'COL', 'ROP', 'ROST', 'RCL', 'SPGI', 'CRM', 'SBAC', 'SCG', 'SLB', 'STX', 'SEE', 'SRE', 'SHW', 'SPG', 'SWKS', 'SLG', 'SNA', 'SO', 'LUV', 'SWK', 'SBUX', 'STT', 'SRCL', 'SYK', 'STI', 'SIVB', 'SYMC', 'SYF', 'SNPS', 'SYY', 'TROW', 'TTWO', 'TPR', 'TGT', 'TEL', 'FTI', 'TXN', 'TXT', 'BK', 'CLX', 'COO', 'HSY', 'MOS', 'TRV', 'DIS', 'TMO', 'TIF', 'TWX', 'TJX', 'TMK', 'TSS', 'TSCO', 'TDG', 'TRIP', 'FOXA', 'FOX', 'TSN', 'USB', 'UDR', 'ULTA', 'UAA', 'UA', 'UNP', 'UAL', 'UNH', 'UPS', 'URI', 'UTX', 'UHS', 'UNM', 'VFC', 'VLO', 'VAR', 'VTR', 'VRSN', 'VRSK', 'VZ', 'VRTX', 'VIAB', 'V', 'VNO', 'VMC', 'WMT', 'WBA', 'WM', 'WAT', 'WEC', 'WFC', 'WELL', 'WDC', 'WU', 'WRK', 'WY', 'WHR', 'WMB', 'WLTW', 'WYN', 'WYNN', 'XEL', 'XRX', 'XLNX', 'XL', 'XYL', 'YUM', 'ZBH', 'ZION', 'ZTS']\n",
    "\n",
    "for i in tickers:\n",
    "    plt_maker(make_df_for(i))\n",
    "\n"
   ]
  },
  {
   "cell_type": "code",
   "execution_count": 265,
   "metadata": {},
   "outputs": [],
   "source": []
  },
  {
   "cell_type": "code",
   "execution_count": null,
   "metadata": {},
   "outputs": [],
   "source": [
    "fb"
   ]
  },
  {
   "cell_type": "code",
   "execution_count": null,
   "metadata": {},
   "outputs": [],
   "source": [
    "fb['50d sma'] = fb['open'].rolling(12).mean()"
   ]
  },
  {
   "cell_type": "code",
   "execution_count": null,
   "metadata": {},
   "outputs": [],
   "source": [
    "fb['50d sma']"
   ]
  },
  {
   "cell_type": "code",
   "execution_count": null,
   "metadata": {},
   "outputs": [],
   "source": [
    "plt.plot()\n",
    "plt.plot_date(fb.index, fb.close,  ls = 'solid', ms = .2, color = 'cyan')\n",
    "plt.title(\"fb\")\n",
    "plt.xlabel(\"Date\")\n",
    "plt.ylabel(\"Price in Dollars\")\n",
    "plt.show()"
   ]
  },
  {
   "cell_type": "code",
   "execution_count": null,
   "metadata": {},
   "outputs": [],
   "source": []
  },
  {
   "cell_type": "code",
   "execution_count": null,
   "metadata": {},
   "outputs": [],
   "source": []
  },
  {
   "cell_type": "code",
   "execution_count": null,
   "metadata": {},
   "outputs": [],
   "source": []
  }
 ],
 "metadata": {
  "kernelspec": {
   "display_name": "Python 3",
   "language": "python",
   "name": "python3"
  },
  "language_info": {
   "codemirror_mode": {
    "name": "ipython",
    "version": 3
   },
   "file_extension": ".py",
   "mimetype": "text/x-python",
   "name": "python",
   "nbconvert_exporter": "python",
   "pygments_lexer": "ipython3",
   "version": "3.6.5"
  }
 },
 "nbformat": 4,
 "nbformat_minor": 2
}
