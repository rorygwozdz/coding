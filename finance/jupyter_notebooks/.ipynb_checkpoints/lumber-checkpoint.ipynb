{
 "cells": [
  {
   "cell_type": "code",
   "execution_count": 1,
   "metadata": {},
   "outputs": [
    {
     "name": "stdout",
     "output_type": "stream",
     "text": [
      "Using matplotlib backend: MacOSX\n",
      "Populating the interactive namespace from numpy and matplotlib\n"
     ]
    }
   ],
   "source": [
    "import pandas as pd\n",
    "import numpy as np\n",
    "pd.core.common.is_list_like = pd.api.types.is_list_like\n",
    "import pandas_datareader as pdr\n",
    "import matplotlib.pyplot as plt\n",
    "%pylab"
   ]
  },
  {
   "cell_type": "code",
   "execution_count": 4,
   "metadata": {},
   "outputs": [
    {
     "name": "stdout",
     "output_type": "stream",
     "text": [
      "                  close_price  high_price  interpolated   low_price  \\\n",
      "symbol begins_at                                                      \n",
      "FB     2018-09-10  164.180000  165.010000         False  162.160000   \n",
      "       2018-09-11  165.940000  167.190000         False  163.720000   \n",
      "       2018-09-12  162.000000  164.490000         False  161.800000   \n",
      "       2018-09-13  161.360000  163.320000         False  160.860000   \n",
      "       2018-09-14  162.320000  162.840000         False  160.340000   \n",
      "\n",
      "                   open_price session    volume  \n",
      "symbol begins_at                                 \n",
      "FB     2018-09-10  163.510000     reg  20197680  \n",
      "       2018-09-11  163.940000     reg  20457088  \n",
      "       2018-09-12  163.250000     reg  24078118  \n",
      "       2018-09-13  162.000000     reg  25453775  \n",
      "       2018-09-14  161.715000     reg  21770405  \n"
     ]
    }
   ],
   "source": [
    "#importing data\n",
    "derka = pdr.data.DataReader('FB', 'robinhood')\n",
    "print(derka.tail())\n",
    "#making the cols floats\n",
    "\n"
   ]
  },
  {
   "cell_type": "code",
   "execution_count": 5,
   "metadata": {},
   "outputs": [
    {
     "name": "stdout",
     "output_type": "stream",
     "text": [
      "                  close_price  high_price  interpolated   low_price  \\\n",
      "symbol begins_at                                                      \n",
      "FB     2017-09-18  170.010000  172.070000         False  169.340000   \n",
      "       2017-09-19  172.520000  172.560000         False  170.360000   \n",
      "       2017-09-20  172.170000  173.050000         False  170.700000   \n",
      "       2017-09-21  171.110000  172.270000         False  170.010000   \n",
      "       2017-09-22  170.540000  171.730000         False  169.220000   \n",
      "       2017-09-25  162.870000  169.300000         False  161.560000   \n",
      "       2017-09-26  164.210000  165.500000         False  162.780000   \n",
      "       2017-09-27  167.680000  168.340000         False  165.570000   \n",
      "       2017-09-28  168.730000  169.069600         False  167.160000   \n",
      "       2017-09-29  170.870000  171.660000         False  168.810000   \n",
      "       2017-10-02  169.470000  171.870000         False  168.750000   \n",
      "       2017-10-03  169.960000  170.730000         False  169.200000   \n",
      "       2017-10-04  168.420000  170.670000         False  168.290000   \n",
      "       2017-10-05  171.240000  171.310000         False  168.600000   \n",
      "       2017-10-06  172.230000  172.370000         False  169.750000   \n",
      "       2017-10-09  172.500000  174.880000         False  172.000000   \n",
      "       2017-10-10  171.590000  173.200000         False  170.800000   \n",
      "       2017-10-11  172.740000  172.780000         False  171.400000   \n",
      "       2017-10-12  172.550000  173.850000         False  172.290000   \n",
      "       2017-10-13  173.740000  174.650000         False  173.200000   \n",
      "       2017-10-16  174.520000  175.000000         False  174.060000   \n",
      "       2017-10-17  176.110000  176.130000         False  174.360000   \n",
      "       2017-10-18  176.030000  176.740000         False  175.750000   \n",
      "       2017-10-19  174.560000  176.030000         False  172.630000   \n",
      "       2017-10-20  174.980000  175.880000         False  174.630000   \n",
      "       2017-10-23  171.270000  175.340000         False  171.250000   \n",
      "       2017-10-24  171.800000  173.240000         False  171.500000   \n",
      "       2017-10-25  170.600000  172.250000         False  168.890000   \n",
      "       2017-10-26  170.630000  172.285000         False  170.390000   \n",
      "       2017-10-27  177.880000  178.210000         False  173.900000   \n",
      "...                       ...         ...           ...         ...   \n",
      "       2018-08-03  177.780000  178.850000         False  176.150000   \n",
      "       2018-08-06  185.690000  185.790000         False  178.380000   \n",
      "       2018-08-07  183.810000  188.300000         False  183.720000   \n",
      "       2018-08-08  185.180000  186.850000         False  183.760000   \n",
      "       2018-08-09  183.090000  186.570000         False  182.480000   \n",
      "       2018-08-10  180.260000  182.100000         False  179.420000   \n",
      "       2018-08-13  180.050000  182.610000         False  178.900000   \n",
      "       2018-08-14  181.110000  181.990000         False  178.620000   \n",
      "       2018-08-15  179.530000  180.870000         False  174.780000   \n",
      "       2018-08-16  174.700000  180.500000         False  174.010000   \n",
      "       2018-08-17  173.800000  176.220000         False  172.040000   \n",
      "       2018-08-20  172.500000  174.570000         False  170.910000   \n",
      "       2018-08-21  172.620000  174.170000         False  171.390000   \n",
      "       2018-08-22  173.640000  174.240000         False  172.130000   \n",
      "       2018-08-23  172.900000  175.550000         False  172.830000   \n",
      "       2018-08-24  174.645000  174.820000         False  172.920000   \n",
      "       2018-08-27  177.460000  178.670000         False  175.790000   \n",
      "       2018-08-28  176.260000  178.239900         False  175.830000   \n",
      "       2018-08-29  175.900000  176.790000         False  174.750000   \n",
      "       2018-08-30  177.640000  179.790100         False  175.700000   \n",
      "       2018-08-31  175.730000  177.620000         False  174.981500   \n",
      "       2018-09-04  171.160000  173.890000         False  168.800000   \n",
      "       2018-09-05  167.180000  171.125000         False  166.670000   \n",
      "       2018-09-06  162.530000  166.980000         False  160.000000   \n",
      "       2018-09-07  163.040000  164.626900         False  160.160000   \n",
      "       2018-09-10  164.180000  165.010000         False  162.160000   \n",
      "       2018-09-11  165.940000  167.190000         False  163.720000   \n",
      "       2018-09-12  162.000000  164.490000         False  161.800000   \n",
      "       2018-09-13  161.360000  163.320000         False  160.860000   \n",
      "       2018-09-14  162.320000  162.840000         False  160.340000   \n",
      "\n",
      "                   open_price session    volume  \n",
      "symbol begins_at                                 \n",
      "FB     2017-09-18  171.990000     reg  12954013  \n",
      "       2017-09-19  170.620000     reg  13168595  \n",
      "       2017-09-20  172.500000     reg  12264125  \n",
      "       2017-09-21  171.690000     reg  11161412  \n",
      "       2017-09-22  170.210000     reg  12097138  \n",
      "       2017-09-25  169.240000     reg  41251583  \n",
      "       2017-09-26  164.500000     reg  23363335  \n",
      "       2017-09-27  165.900000     reg  19242548  \n",
      "       2017-09-28  167.940000     reg  12178747  \n",
      "       2017-09-29  168.830000     reg  15340366  \n",
      "       2017-10-02  171.390000     reg  13392280  \n",
      "       2017-10-03  169.300000     reg   8190273  \n",
      "       2017-10-04  169.830000     reg  12127887  \n",
      "       2017-10-05  169.180000     reg  14580628  \n",
      "       2017-10-06  170.250000     reg  13124473  \n",
      "       2017-10-09  172.700000     reg  14570413  \n",
      "       2017-10-10  173.000000     reg  11341081  \n",
      "       2017-10-11  171.950000     reg  11283663  \n",
      "       2017-10-12  172.610000     reg  10351044  \n",
      "       2017-10-13  173.450000     reg  13658307  \n",
      "       2017-10-16  174.490000     reg  11498752  \n",
      "       2017-10-17  174.710000     reg  15990079  \n",
      "       2017-10-18  176.650000     reg  12752351  \n",
      "       2017-10-19  174.930000     reg  14048350  \n",
      "       2017-10-20  175.500000     reg  12602238  \n",
      "       2017-10-23  175.200000     reg  13852658  \n",
      "       2017-10-24  172.300000     reg  12267913  \n",
      "       2017-10-25  171.900000     reg  15868197  \n",
      "       2017-10-26  171.380000     reg  11833141  \n",
      "       2017-10-27  174.150000     reg  30285281  \n",
      "...                       ...     ...       ...  \n",
      "       2018-08-03  177.690000     reg  24763434  \n",
      "       2018-08-06  178.970000     reg  49716192  \n",
      "       2018-08-07  186.500000     reg  33398562  \n",
      "       2018-08-08  184.750000     reg  22205230  \n",
      "       2018-08-09  185.849200     reg  19732120  \n",
      "       2018-08-10  182.040000     reg  21500410  \n",
      "       2018-08-13  180.100000     reg  17423264  \n",
      "       2018-08-14  180.710000     reg  19101995  \n",
      "       2018-08-15  179.340000     reg  33020231  \n",
      "       2018-08-16  180.420000     reg  31351784  \n",
      "       2018-08-17  174.500000     reg  24893176  \n",
      "       2018-08-20  174.040000     reg  21518006  \n",
      "       2018-08-21  172.810000     reg  19578514  \n",
      "       2018-08-22  172.210000     reg  16894083  \n",
      "       2018-08-23  173.090000     reg  18053567  \n",
      "       2018-08-24  173.700000     reg  14631556  \n",
      "       2018-08-27  175.990000     reg  17921935  \n",
      "       2018-08-28  178.100000     reg  15910675  \n",
      "       2018-08-29  176.295000     reg  18678301  \n",
      "       2018-08-30  175.900000     reg  24216532  \n",
      "       2018-08-31  177.150000     reg  18065159  \n",
      "       2018-09-04  173.500000     reg  29808971  \n",
      "       2018-09-05  169.490000     reg  31226744  \n",
      "       2018-09-06  166.980000     reg  41514834  \n",
      "       2018-09-07  160.310000     reg  24300600  \n",
      "       2018-09-10  163.510000     reg  20197680  \n",
      "       2018-09-11  163.940000     reg  20457088  \n",
      "       2018-09-12  163.250000     reg  24078118  \n",
      "       2018-09-13  162.000000     reg  25453775  \n",
      "       2018-09-14  161.715000     reg  21770405  \n",
      "\n",
      "[251 rows x 7 columns]\n"
     ]
    }
   ],
   "source": [
    "print(derka)"
   ]
  },
  {
   "cell_type": "code",
   "execution_count": 6,
   "metadata": {},
   "outputs": [],
   "source": [
    "listr = [u'close_price', u'high_price', u'interpolated', u'low_price', u'open_price', u'volume']\n",
    "derka[listr] = derka[listr].astype(float)"
   ]
  },
  {
   "cell_type": "code",
   "execution_count": 7,
   "metadata": {},
   "outputs": [],
   "source": [
    "derka['log return'] = np.log(derka['close_price']/derka['close_price'].shift(1))\n",
    "derka['vol'] = np.sqrt(252)*derka['log return'].rolling(5).std()\n",
    "\n"
   ]
  },
  {
   "cell_type": "code",
   "execution_count": 8,
   "metadata": {},
   "outputs": [
    {
     "data": {
      "text/plain": [
       "array([<matplotlib.axes._subplots.AxesSubplot object at 0x10db715c0>],\n",
       "      dtype=object)"
      ]
     },
     "execution_count": 8,
     "metadata": {},
     "output_type": "execute_result"
    },
    {
     "data": {
      "image/png": "[encoded data removed]",
      "text/plain": [
       "<Figure size 432x288 with 1 Axes>"
      ]
     },
     "metadata": {},
     "output_type": "display_data"
    }
   ],
   "source": [
    "%matplotlib inline\n",
    "#plt.plot(array(derka.index.values, derka['vol'], color = 'blue')\n",
    "derka['vol'].plot(subplots = True)\n"
   ]
  },
  {
   "cell_type": "code",
   "execution_count": 15,
   "metadata": {},
   "outputs": [],
   "source": [
    "%magic"
   ]
  },
  {
   "cell_type": "code",
   "execution_count": null,
   "metadata": {},
   "outputs": [],
   "source": []
  }
 ],
 "metadata": {
  "kernelspec": {
   "display_name": "Python 2",
   "language": "python",
   "name": "python2"
  },
  "language_info": {
   "codemirror_mode": {
    "name": "ipython",
    "version": 3
   },
   "file_extension": ".py",
   "mimetype": "text/x-python",
   "name": "python",
   "nbconvert_exporter": "python",
   "pygments_lexer": "ipython3",
   "version": "3.6.5"
  }
 },
 "nbformat": 4,
 "nbformat_minor": 2
}
