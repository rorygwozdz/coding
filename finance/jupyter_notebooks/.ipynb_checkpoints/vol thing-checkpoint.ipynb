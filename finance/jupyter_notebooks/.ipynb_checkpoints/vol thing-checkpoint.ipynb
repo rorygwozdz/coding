{
 "cells": [
  {
   "cell_type": "code",
   "execution_count": 1,
   "metadata": {},
   "outputs": [
    {
     "name": "stdout",
     "output_type": "stream",
     "text": [
      "Using matplotlib backend: MacOSX\n",
      "Populating the interactive namespace from numpy and matplotlib\n"
     ]
    }
   ],
   "source": [
    "import pandas as pd\n",
    "import numpy as np\n",
    "pd.core.common.is_list_like = pd.api.types.is_list_like\n",
    "import pandas_datareader as pdr\n",
    "import matplotlib.pyplot as plt\n",
    "%pylab"
   ]
  },
  {
   "cell_type": "code",
   "execution_count": 2,
   "metadata": {},
   "outputs": [
    {
     "name": "stdout",
     "output_type": "stream",
     "text": [
      "                  close_price high_price  interpolated  low_price open_price  \\\n",
      "symbol begins_at                                                               \n",
      "CSX    2017-09-15   51.739000  51.768600         False  51.127800  51.167200   \n",
      "       2017-09-18   51.117900  51.946100         False  51.103100  51.699600   \n",
      "       2017-09-19   51.048900  51.443300         False  50.457400  51.216500   \n",
      "       2017-09-20   52.064400  52.094000         False  50.910900  51.088400   \n",
      "       2017-09-21   52.103800  52.261600         False  51.637500  52.015100   \n",
      "\n",
      "                  session   volume  \n",
      "symbol begins_at                    \n",
      "CSX    2017-09-15     reg  9369129  \n",
      "       2017-09-18     reg  5646417  \n",
      "       2017-09-19     reg  6379759  \n",
      "       2017-09-20     reg  4503544  \n",
      "       2017-09-21     reg  3707473  \n"
     ]
    }
   ],
   "source": [
    "#importing data\n",
    "derka = pdr.data.DataReader('CSX', 'robinhood')\n",
    "print(derka.head())\n",
    "#making the cols floats\n",
    "\n"
   ]
  },
  {
   "cell_type": "code",
   "execution_count": 11,
   "metadata": {},
   "outputs": [
    {
     "ename": "SyntaxError",
     "evalue": "Missing parentheses in call to 'print'. Did you mean print(derka)? (<ipython-input-11-d35c1b12e4b1>, line 1)",
     "output_type": "error",
     "traceback": [
      "\u001b[0;36m  File \u001b[0;32m\"<ipython-input-11-d35c1b12e4b1>\"\u001b[0;36m, line \u001b[0;32m1\u001b[0m\n\u001b[0;31m    print derka\u001b[0m\n\u001b[0m              ^\u001b[0m\n\u001b[0;31mSyntaxError\u001b[0m\u001b[0;31m:\u001b[0m Missing parentheses in call to 'print'. Did you mean print(derka)?\n"
     ]
    }
   ],
   "source": [
    "print derka"
   ]
  },
  {
   "cell_type": "code",
   "execution_count": 12,
   "metadata": {},
   "outputs": [],
   "source": [
    "listr = [u'close_price', u'high_price', u'interpolated', u'low_price', u'open_price', u'volume']\n",
    "derka[listr] = derka[listr].astype(float)"
   ]
  },
  {
   "cell_type": "code",
   "execution_count": 13,
   "metadata": {},
   "outputs": [],
   "source": [
    "derka['log return'] = np.log(derka['close_price']/derka['close_price'].shift(1))\n",
    "derka['vol'] = np.sqrt(252)*derka['log return'].rolling(12).std()\n"
   ]
  },
  {
   "cell_type": "code",
   "execution_count": 14,
   "metadata": {},
   "outputs": [
    {
     "data": {
      "text/plain": [
       "array([<matplotlib.axes._subplots.AxesSubplot object at 0x110410a58>],\n",
       "      dtype=object)"
      ]
     },
     "execution_count": 14,
     "metadata": {},
     "output_type": "execute_result"
    },
    {
     "data": {
      "image/png": "[encoded data removed]",
      "text/plain": [
       "<Figure size 432x288 with 1 Axes>"
      ]
     },
     "metadata": {},
     "output_type": "display_data"
    }
   ],
   "source": [
    "%matplotlib inline\n",
    "#plt.plot(array(derka.index.values, derka['vol'], color = 'blue')\n",
    "derka['close_price'].plot(subplots = True)\n"
   ]
  },
  {
   "cell_type": "code",
   "execution_count": 15,
   "metadata": {},
   "outputs": [],
   "source": [
    "%magic"
   ]
  },
  {
   "cell_type": "code",
   "execution_count": null,
   "metadata": {},
   "outputs": [],
   "source": []
  }
 ],
 "metadata": {
  "kernelspec": {
   "display_name": "Python 2",
   "language": "python",
   "name": "python2"
  },
  "language_info": {
   "codemirror_mode": {
    "name": "ipython",
    "version": 3
   },
   "file_extension": ".py",
   "mimetype": "text/x-python",
   "name": "python",
   "nbconvert_exporter": "python",
   "pygments_lexer": "ipython3",
   "version": "3.6.5"
  }
 },
 "nbformat": 4,
 "nbformat_minor": 2
}
