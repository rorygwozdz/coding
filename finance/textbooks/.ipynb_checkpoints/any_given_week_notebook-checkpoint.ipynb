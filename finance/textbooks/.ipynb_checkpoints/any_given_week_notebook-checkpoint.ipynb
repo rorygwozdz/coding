{
 "cells": [
  {
   "cell_type": "code",
   "execution_count": 3,
   "metadata": {},
   "outputs": [],
   "source": [
    "import pandas as pd\n",
    "import numpy as np\n",
    "pd.core.common.is_list_like = pd.api.types.is_list_like\n",
    "import pandas_datareader as pdr\n",
    "from datetime import datetime"
   ]
  },
  {
   "cell_type": "code",
   "execution_count": 4,
   "metadata": {},
   "outputs": [],
   "source": [
    "start = datetime(2013, 10, 1)\n",
    "\n",
    "end = datetime(2018, 10, 1)\n",
    "\n",
    "def grab_data(ticker, start, end):\n",
    "    derka = pdr.DataReader(ticker, 'iex', start, end)\n",
    "    return derka\n",
    "\n",
    "def weekly_chance_above(derka):\n",
    "    #need to know how much data\n",
    "    lengther = len(derka.close)\n",
    "    #need to have a list to add truthiness\n",
    "    lister = []\n",
    "    #need the list to be properly indexable hence the minus five\n",
    "    for i in np.arange(lengther - 5):\n",
    "        #if close is higher five days later that's good for me + I buy at open so that's also important\n",
    "        if derka.open[i] < derka.close[i+5]:\n",
    "            lister += [True]\n",
    "        else:\n",
    "            lister += [False]\n",
    "    return sum(lister)/len(lister)\n",
    "\n",
    "\n",
    "def weekly_chance_list(tickers, start, end):\n",
    "    #so this is broken up to allow for creating a \"big daddy\" data frame. \n",
    "    #the first lister value is just the first of the tickers and the chance of that ticker\n",
    "    #the rest of the for loop iterates over the rest of the tickers\n",
    "    lister = [[tickers[0], weekly_chance_above(grab_data(tickers[0], start, end))]]\n",
    "    big_derka = {tickers[0]: grab_data(tickers[0], start, end)}\n",
    "    for i in tickers[1:]:\n",
    "        derka = grab_data(i, start, end)\n",
    "        big_derka[ticker[i]] = derka\n",
    "        chance = weekly_chance_above(derka)\n",
    "        lister += [[i, chance]]\n",
    "    return big_derka, lister\n",
    "\n",
    "def expected_value_trade(df, ticker, credit, max_loss):\n",
    "    chancer = df[df.ticker == ticker].chance\n",
    "    gain = chancer * credit\n",
    "    loss = max_loss * (1 - chancer)\n",
    "    return gain + loss\n",
    "\n",
    "def corr_getter(df, ticker_1, ticker_2):\n",
    "    priced_ticker_1 = 0\n",
    "    priced_ticker_2 = df[df.ti]\n",
    "    #i need to figure out how to call the column with the syntac I gave it\n",
    "    #I essentially just need the two price datas ( i think i'll take the close data, too)\n",
    "    return np.corr(df.tickers)"
   ]
  },
  {
   "cell_type": "code",
   "execution_count": 8,
   "metadata": {},
   "outputs": [
    {
     "name": "stdout",
     "output_type": "stream",
     "text": [
      "5y\n",
      "5y\n",
      "5y\n"
     ]
    }
   ],
   "source": [
    "#companies = ['SPY', 'VXX', 'AAPL','ABBV','ABT','ACN','AGN','AIG','ALL','AMGN','AMZN','AXP','BA','BAC','BIIB','BK','BKNG','BLK','BMY','BRK.B','C','CAT','CELG','CHTR','CL','CMCSA','COF','COP','COST','CSCO','CVS','CVX','DHR','DIS','DUK','DWDP','EMR','EXC','F','FB','FDX','FOX','FOXA','GD','GE','GILD','GM','GOOG','GOOGL','GS','HAL','HD','HON','IBM','INTC','JNJ','JPM','KHC','KMI','KO','LLY','LMT','LOW','MA','MCD','MDLZ','MDT','MET','MMM','MO','MRK','MS','MSFT','NEE','NFLX','NKE','NVDA','ORCL','OXY','PEP','PFE','PG','PM','PYPL','QCOM','RTN','SBUX','SLB','SO','SPG','T','TGT','TXN','UNH','UNP','UPS','USB','UTX','V','VZ','WBA','WFC','WMT','XOM']\n",
    "vxx = ['VXX', 'UVXY']\n",
    "big_derka, lister = weekly_chance_list(vxx, start, end);"
   ]
  },
  {
   "cell_type": "markdown",
   "metadata": {},
   "source": [
    "#tester - change ot coee to fuck around with things\n",
    "tickers = ['SPY', 'VXX', 'NFLX']\n",
    "lister = []\n",
    "big_derka = grab_data(tickers[0], start, end)\n",
    "for i in tickers[1:]:\n",
    "    derka = grab_data(i, start, end)\n",
    "    big_derka = big_derka.join(derka, rsuffix = str(i))\n",
    "    chance = weekly_chance_above(derka)\n",
    "    lister += [[i, chance]]\n"
   ]
  },
  {
   "cell_type": "code",
   "execution_count": 32,
   "metadata": {},
   "outputs": [],
   "source": [
    "def make_chancer(lister):\n",
    "    #returns a df of the chances by ticker\n",
    "    tickers, nums = [], []\n",
    "    for i in range(len(lister)):\n",
    "        tickers += [lister[i][0]]\n",
    "        nums += [lister[i][1]]\n",
    "    derka_df = pd.DataFrame({\"ticker\": tickers, \n",
    "                         \"chance\": nums})\n",
    "    derka_df = derka_df.sort_values(['chance'], ascending = False)\n",
    "    return derka_df"
   ]
  },
  {
   "cell_type": "code",
   "execution_count": 28,
   "metadata": {},
   "outputs": [
    {
     "data": {
      "text/html": [
       "<div>\n",
       "<style scoped>\n",
       "    .dataframe tbody tr th:only-of-type {\n",
       "        vertical-align: middle;\n",
       "    }\n",
       "\n",
       "    .dataframe tbody tr th {\n",
       "        vertical-align: top;\n",
       "    }\n",
       "\n",
       "    .dataframe thead th {\n",
       "        text-align: right;\n",
       "    }\n",
       "</style>\n",
       "<table border=\"1\" class=\"dataframe\">\n",
       "  <thead>\n",
       "    <tr style=\"text-align: right;\">\n",
       "      <th></th>\n",
       "      <th>open</th>\n",
       "      <th>high</th>\n",
       "      <th>low</th>\n",
       "      <th>close</th>\n",
       "      <th>volume</th>\n",
       "      <th>openUVXY</th>\n",
       "      <th>highUVXY</th>\n",
       "      <th>lowUVXY</th>\n",
       "      <th>closeUVXY</th>\n",
       "      <th>volumeUVXY</th>\n",
       "    </tr>\n",
       "    <tr>\n",
       "      <th>date</th>\n",
       "      <th></th>\n",
       "      <th></th>\n",
       "      <th></th>\n",
       "      <th></th>\n",
       "      <th></th>\n",
       "      <th></th>\n",
       "      <th></th>\n",
       "      <th></th>\n",
       "      <th></th>\n",
       "      <th></th>\n",
       "    </tr>\n",
       "  </thead>\n",
       "  <tbody>\n",
       "    <tr>\n",
       "      <th>2013-10-07</th>\n",
       "      <td>1002.88</td>\n",
       "      <td>1039.36</td>\n",
       "      <td>991.36</td>\n",
       "      <td>1037.44</td>\n",
       "      <td>885513</td>\n",
       "      <td>388300.0</td>\n",
       "      <td>414700.0</td>\n",
       "      <td>379000.0</td>\n",
       "      <td>413100.0</td>\n",
       "      <td>941</td>\n",
       "    </tr>\n",
       "    <tr>\n",
       "      <th>2013-10-08</th>\n",
       "      <td>1037.44</td>\n",
       "      <td>1099.52</td>\n",
       "      <td>1032.32</td>\n",
       "      <td>1085.44</td>\n",
       "      <td>1603236</td>\n",
       "      <td>413000.0</td>\n",
       "      <td>462400.0</td>\n",
       "      <td>408900.0</td>\n",
       "      <td>451400.0</td>\n",
       "      <td>1472</td>\n",
       "    </tr>\n",
       "    <tr>\n",
       "      <th>2013-10-09</th>\n",
       "      <td>1084.80</td>\n",
       "      <td>1114.24</td>\n",
       "      <td>1032.96</td>\n",
       "      <td>1047.68</td>\n",
       "      <td>1555560</td>\n",
       "      <td>450100.0</td>\n",
       "      <td>475000.0</td>\n",
       "      <td>407500.0</td>\n",
       "      <td>421000.0</td>\n",
       "      <td>1740</td>\n",
       "    </tr>\n",
       "  </tbody>\n",
       "</table>\n",
       "</div>"
      ],
      "text/plain": [
       "               open     high      low    close   volume  openUVXY  highUVXY  \\\n",
       "date                                                                          \n",
       "2013-10-07  1002.88  1039.36   991.36  1037.44   885513  388300.0  414700.0   \n",
       "2013-10-08  1037.44  1099.52  1032.32  1085.44  1603236  413000.0  462400.0   \n",
       "2013-10-09  1084.80  1114.24  1032.96  1047.68  1555560  450100.0  475000.0   \n",
       "\n",
       "             lowUVXY  closeUVXY  volumeUVXY  \n",
       "date                                         \n",
       "2013-10-07  379000.0   413100.0         941  \n",
       "2013-10-08  408900.0   451400.0        1472  \n",
       "2013-10-09  407500.0   421000.0        1740  "
      ]
     },
     "execution_count": 28,
     "metadata": {},
     "output_type": "execute_result"
    }
   ],
   "source": [
    "big_derka.head(3)"
   ]
  },
  {
   "cell_type": "code",
   "execution_count": null,
   "metadata": {},
   "outputs": [],
   "source": []
  },
  {
   "cell_type": "markdown",
   "metadata": {},
   "source": [
    "max(nums)"
   ]
  },
  {
   "cell_type": "code",
   "execution_count": 33,
   "metadata": {},
   "outputs": [],
   "source": [
    "derka_df = make_chancer(lister)"
   ]
  },
  {
   "cell_type": "code",
   "execution_count": 36,
   "metadata": {},
   "outputs": [
    {
     "data": {
      "text/plain": [
       "1   -1609.352518\n",
       "Name: chance, dtype: float64"
      ]
     },
     "execution_count": 36,
     "metadata": {},
     "output_type": "execute_result"
    }
   ],
   "source": [
    "expected_value_trade(derka_df, 'UVXY', 1700, -3300)"
   ]
  },
  {
   "cell_type": "code",
   "execution_count": null,
   "metadata": {},
   "outputs": [],
   "source": []
  },
  {
   "cell_type": "code",
   "execution_count": null,
   "metadata": {},
   "outputs": [],
   "source": []
  },
  {
   "cell_type": "code",
   "execution_count": null,
   "metadata": {},
   "outputs": [],
   "source": []
  }
 ],
 "metadata": {
  "kernelspec": {
   "display_name": "Python 3",
   "language": "python",
   "name": "python3"
  },
  "language_info": {
   "codemirror_mode": {
    "name": "ipython",
    "version": 3
   },
   "file_extension": ".py",
   "mimetype": "text/x-python",
   "name": "python",
   "nbconvert_exporter": "python",
   "pygments_lexer": "ipython3",
   "version": "3.6.5"
  }
 },
 "nbformat": 4,
 "nbformat_minor": 2
}
