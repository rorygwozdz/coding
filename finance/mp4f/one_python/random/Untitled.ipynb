{
 "cells": [
  {
   "cell_type": "code",
   "execution_count": 1,
   "metadata": {},
   "outputs": [],
   "source": [
    "import pandas as pd\n",
    "import numpy as np\n",
    "pd.core.common.is_list_like = pd.api.types.is_list_like\n",
    "import pandas_datareader as pdr\n",
    "from datetime import datetime"
   ]
  },
  {
   "cell_type": "code",
   "execution_count": 2,
   "metadata": {},
   "outputs": [],
   "source": [
    "start = datetime(2015, 2, 9)\n",
    "\n",
    "end = datetime(2018, 5, 24)\n",
    "\n",
    "def grab_data(ticker, start, end):\n",
    "    derka = pdr.DataReader(ticker, 'iex', start, end)\n",
    "    return derka\n",
    "\n",
    "def weekly_chance_above(derka):\n",
    "    #need to know how much data\n",
    "    lengther = len(derka.close)\n",
    "    #need to have a list to add truthiness\n",
    "    lister = []\n",
    "    #need the list to be properly indexable hence the minus five\n",
    "    for i in np.arange(lengther - 5):\n",
    "        #if close is higher five days later that's good for me + I buy at open so that's also important\n",
    "        if derka.open[i] < derka.close[i+5]:\n",
    "            lister += [True]\n",
    "        else:\n",
    "            lister += [False]\n",
    "    return sum(lister)/len(lister)\n",
    "\n",
    "\n",
    "def weekly_chance_list(tickers, start, end):\n",
    "    lister = []\n",
    "    for i in tickers:\n",
    "        derka = grab_data(i, start, end)\n",
    "        chance = weekly_chance_above(derka)\n",
    "        lister += [[i, chance]]\n",
    "    return lister"
   ]
  },
  {
   "cell_type": "code",
   "execution_count": 21,
   "metadata": {},
   "outputs": [
    {
     "name": "stdout",
     "output_type": "stream",
     "text": [
      "5y\n",
      "5y\n",
      "5y\n",
      "5y\n",
      "5y\n",
      "5y\n",
      "5y\n",
      "5y\n",
      "5y\n",
      "5y\n",
      "5y\n",
      "5y\n",
      "5y\n",
      "5y\n",
      "5y\n",
      "5y\n",
      "5y\n",
      "5y\n",
      "5y\n",
      "5y\n",
      "5y\n",
      "5y\n",
      "5y\n",
      "5y\n",
      "5y\n",
      "5y\n",
      "5y\n",
      "5y\n",
      "5y\n",
      "5y\n",
      "5y\n",
      "5y\n",
      "5y\n",
      "5y\n",
      "5y\n",
      "5y\n",
      "5y\n",
      "5y\n",
      "5y\n",
      "5y\n",
      "5y\n",
      "5y\n",
      "5y\n",
      "5y\n",
      "5y\n",
      "5y\n",
      "5y\n",
      "5y\n",
      "5y\n",
      "5y\n",
      "5y\n",
      "5y\n",
      "5y\n",
      "5y\n",
      "5y\n",
      "5y\n",
      "5y\n",
      "5y\n",
      "5y\n",
      "5y\n",
      "5y\n",
      "5y\n",
      "5y\n",
      "5y\n",
      "5y\n",
      "5y\n",
      "5y\n",
      "5y\n",
      "5y\n",
      "5y\n",
      "5y\n",
      "5y\n",
      "5y\n",
      "5y\n",
      "5y\n",
      "5y\n",
      "5y\n",
      "5y\n",
      "5y\n",
      "5y\n",
      "5y\n",
      "5y\n",
      "5y\n",
      "5y\n",
      "5y\n",
      "5y\n",
      "5y\n",
      "5y\n",
      "5y\n",
      "5y\n",
      "5y\n",
      "5y\n",
      "5y\n",
      "5y\n",
      "5y\n",
      "5y\n",
      "5y\n",
      "5y\n",
      "5y\n",
      "5y\n",
      "5y\n",
      "5y\n"
     ]
    }
   ],
   "source": [
    "companies = ['AAPL','ABBV','ABT','ACN','AGN','AIG','ALL','AMGN','AMZN','AXP','BA','BAC','BIIB','BK','BKNG','BLK','BMY','BRK.B','C','CAT','CELG','CHTR','CL','CMCSA','COF','COP','COST','CSCO','CVS','CVX','DHR','DIS','DUK','DWDP','EMR','EXC','F','FB','FDX','FOX','FOXA','GD','GE','GILD','GM','GOOG','GOOGL','GS','HAL','HD','HON','IBM','INTC','JNJ','JPM','KHC','KMI','KO','LLY','LMT','LOW','MA','MCD','MDLZ','MDT','MET','MMM','MO','MRK','MS','MSFT','NEE','NFLX','NKE','NVDA','ORCL','OXY','PEP','PFE','PG','PM','PYPL','QCOM','RTN','SBUX','SLB','SO','SPG','T','TGT','TXN','UNH','UNP','UPS','USB','UTX','V','VZ','WBA','WFC','WMT','XOM']\n",
    "list_of_potential_gold = weekly_chance_list(companies, start, end)"
   ]
  },
  {
   "cell_type": "code",
   "execution_count": 25,
   "metadata": {},
   "outputs": [],
   "source": [
    "derka = list_of_potential_gold"
   ]
  },
  {
   "cell_type": "code",
   "execution_count": 66,
   "metadata": {},
   "outputs": [],
   "source": [
    "dderka = np.array(derka)\n",
    "tickers, nums = [], []\n",
    "for i in range(len(derka)):\n",
    "    tickers += [derka[i][0]]\n",
    "    nums += [derka[i][1]]\n",
    "nums = np.array(nums)"
   ]
  },
  {
   "cell_type": "code",
   "execution_count": null,
   "metadata": {},
   "outputs": [],
   "source": []
  },
  {
   "cell_type": "markdown",
   "metadata": {},
   "source": [
    "max(nums)"
   ]
  },
  {
   "cell_type": "code",
   "execution_count": 72,
   "metadata": {},
   "outputs": [
    {
     "ename": "AttributeError",
     "evalue": "'DataFrame' object has no attribute 'Sort'",
     "output_type": "error",
     "traceback": [
      "\u001b[0;31m---------------------------------------------------------------------------\u001b[0m",
      "\u001b[0;31mAttributeError\u001b[0m                            Traceback (most recent call last)",
      "\u001b[0;32m<ipython-input-72-82d67160b1bf>\u001b[0m in \u001b[0;36m<module>\u001b[0;34m()\u001b[0m\n\u001b[1;32m      1\u001b[0m derka_df = pd.DataFrame({\"ticker\": tickers, \n\u001b[1;32m      2\u001b[0m                          \"chance\": nums})\n\u001b[0;32m----> 3\u001b[0;31m \u001b[0mderka_df\u001b[0m\u001b[0;34m.\u001b[0m\u001b[0mSort\u001b[0m\u001b[0;34m(\u001b[0m\u001b[0;34m\"chance\"\u001b[0m\u001b[0;34m)\u001b[0m\u001b[0;34m\u001b[0m\u001b[0m\n\u001b[0m",
      "\u001b[0;32m/anaconda3/lib/python3.6/site-packages/pandas/core/generic.py\u001b[0m in \u001b[0;36m__getattr__\u001b[0;34m(self, name)\u001b[0m\n\u001b[1;32m   4370\u001b[0m             \u001b[0;32mif\u001b[0m \u001b[0mself\u001b[0m\u001b[0;34m.\u001b[0m\u001b[0m_info_axis\u001b[0m\u001b[0;34m.\u001b[0m\u001b[0m_can_hold_identifiers_and_holds_name\u001b[0m\u001b[0;34m(\u001b[0m\u001b[0mname\u001b[0m\u001b[0;34m)\u001b[0m\u001b[0;34m:\u001b[0m\u001b[0;34m\u001b[0m\u001b[0m\n\u001b[1;32m   4371\u001b[0m                 \u001b[0;32mreturn\u001b[0m \u001b[0mself\u001b[0m\u001b[0;34m[\u001b[0m\u001b[0mname\u001b[0m\u001b[0;34m]\u001b[0m\u001b[0;34m\u001b[0m\u001b[0m\n\u001b[0;32m-> 4372\u001b[0;31m             \u001b[0;32mreturn\u001b[0m \u001b[0mobject\u001b[0m\u001b[0;34m.\u001b[0m\u001b[0m__getattribute__\u001b[0m\u001b[0;34m(\u001b[0m\u001b[0mself\u001b[0m\u001b[0;34m,\u001b[0m \u001b[0mname\u001b[0m\u001b[0;34m)\u001b[0m\u001b[0;34m\u001b[0m\u001b[0m\n\u001b[0m\u001b[1;32m   4373\u001b[0m \u001b[0;34m\u001b[0m\u001b[0m\n\u001b[1;32m   4374\u001b[0m     \u001b[0;32mdef\u001b[0m \u001b[0m__setattr__\u001b[0m\u001b[0;34m(\u001b[0m\u001b[0mself\u001b[0m\u001b[0;34m,\u001b[0m \u001b[0mname\u001b[0m\u001b[0;34m,\u001b[0m \u001b[0mvalue\u001b[0m\u001b[0;34m)\u001b[0m\u001b[0;34m:\u001b[0m\u001b[0;34m\u001b[0m\u001b[0m\n",
      "\u001b[0;31mAttributeError\u001b[0m: 'DataFrame' object has no attribute 'Sort'"
     ]
    }
   ],
   "source": [
    "derka_df = pd.DataFrame({\"ticker\": tickers, \n",
    "                         \"chance\": nums})\n",
    "derka_df.Sort(\"chance\")"
   ]
  },
  {
   "cell_type": "code",
   "execution_count": null,
   "metadata": {},
   "outputs": [],
   "source": []
  }
 ],
 "metadata": {
  "kernelspec": {
   "display_name": "Python 3",
   "language": "python",
   "name": "python3"
  },
  "language_info": {
   "codemirror_mode": {
    "name": "ipython",
    "version": 3
   },
   "file_extension": ".py",
   "mimetype": "text/x-python",
   "name": "python",
   "nbconvert_exporter": "python",
   "pygments_lexer": "ipython3",
   "version": "3.6.5"
  }
 },
 "nbformat": 4,
 "nbformat_minor": 2
}
